{
 "cells": [
  {
   "cell_type": "code",
   "execution_count": null,
   "id": "0886e6fc",
   "metadata": {},
   "outputs": [],
   "source": [
    "# src/predict.py\n",
    "import pandas as pd\n",
    "import joblib\n",
    "from src.data_processing import build_preprocessing_pipeline, InteractionFeatureCreator\n",
    "\n",
    "# Load model and preprocessing pipeline\n",
    "model = joblib.load(\"models/xgb_model.pkl\")\n",
    "pipeline = build_preprocessing_pipeline()\n",
    "\n",
    "# Load new data\n",
    "new_df = pd.read_csv(\"data/new_client_data.csv\")  # replace with actual path\n",
    "\n",
    "# Manual feature creation (if pipeline doesn't handle it fully)\n",
    "interaction_creator = InteractionFeatureCreator()\n",
    "new_df = interaction_creator.transform(new_df)\n",
    "\n",
    "# Preprocess\n",
    "X_new = pipeline.fit_transform(new_df)\n",
    "\n",
    "# Predict\n",
    "predictions = model.predict(X_new)\n",
    "print(predictions)\n"
   ]
  }
 ],
 "metadata": {
  "kernelspec": {
   "display_name": "venv",
   "language": "python",
   "name": "python3"
  },
  "language_info": {
   "name": "python",
   "version": "3.13.2"
  }
 },
 "nbformat": 4,
 "nbformat_minor": 5
}
